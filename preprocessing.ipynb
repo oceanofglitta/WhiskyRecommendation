{
 "cells": [
  {
   "cell_type": "code",
   "execution_count": 2,
   "metadata": {},
   "outputs": [],
   "source": [
    "import pandas as pd"
   ]
  },
  {
   "cell_type": "code",
   "execution_count": 3,
   "metadata": {},
   "outputs": [],
   "source": [
    "df = pd.read_csv('reviews.csv')"
   ]
  },
  {
   "cell_type": "code",
   "execution_count": 4,
   "metadata": {},
   "outputs": [],
   "source": [
    "whisky_review_counts = df['whisky'].value_counts()\n",
    "thewhiskies = whisky_review_counts[whisky_review_counts > 3].index\n",
    "filtered_df = df[df['whisky'].isin(thewhiskies)]"
   ]
  },
  {
   "cell_type": "code",
   "execution_count": 5,
   "metadata": {},
   "outputs": [
    {
     "data": {
      "text/html": [
       "<div>\n",
       "<style scoped>\n",
       "    .dataframe tbody tr th:only-of-type {\n",
       "        vertical-align: middle;\n",
       "    }\n",
       "\n",
       "    .dataframe tbody tr th {\n",
       "        vertical-align: top;\n",
       "    }\n",
       "\n",
       "    .dataframe thead th {\n",
       "        text-align: right;\n",
       "    }\n",
       "</style>\n",
       "<table border=\"1\" class=\"dataframe\">\n",
       "  <thead>\n",
       "    <tr style=\"text-align: right;\">\n",
       "      <th></th>\n",
       "      <th>username</th>\n",
       "      <th>whisky</th>\n",
       "      <th>rating</th>\n",
       "    </tr>\n",
       "  </thead>\n",
       "  <tbody>\n",
       "    <tr>\n",
       "      <th>0</th>\n",
       "      <td>SlawofCole</td>\n",
       "      <td>hibiki-21-year</td>\n",
       "      <td>4.5</td>\n",
       "    </tr>\n",
       "    <tr>\n",
       "      <th>1</th>\n",
       "      <td>ticalx00</td>\n",
       "      <td>hibiki-21-year</td>\n",
       "      <td>4.0</td>\n",
       "    </tr>\n",
       "    <tr>\n",
       "      <th>2</th>\n",
       "      <td>cycolac</td>\n",
       "      <td>hibiki-21-year</td>\n",
       "      <td>5.0</td>\n",
       "    </tr>\n",
       "    <tr>\n",
       "      <th>3</th>\n",
       "      <td>aquaquack11</td>\n",
       "      <td>hibiki-21-year</td>\n",
       "      <td>4.5</td>\n",
       "    </tr>\n",
       "    <tr>\n",
       "      <th>4</th>\n",
       "      <td>phat_tommy</td>\n",
       "      <td>hibiki-21-year</td>\n",
       "      <td>5.0</td>\n",
       "    </tr>\n",
       "    <tr>\n",
       "      <th>...</th>\n",
       "      <td>...</td>\n",
       "      <td>...</td>\n",
       "      <td>...</td>\n",
       "    </tr>\n",
       "    <tr>\n",
       "      <th>102201</th>\n",
       "      <td>jayhines13</td>\n",
       "      <td>noah-s-mill-bourbon</td>\n",
       "      <td>4.0</td>\n",
       "    </tr>\n",
       "    <tr>\n",
       "      <th>102202</th>\n",
       "      <td>Scotchdale</td>\n",
       "      <td>noah-s-mill-bourbon</td>\n",
       "      <td>5.0</td>\n",
       "    </tr>\n",
       "    <tr>\n",
       "      <th>102203</th>\n",
       "      <td>johnnylats</td>\n",
       "      <td>noah-s-mill-bourbon</td>\n",
       "      <td>5.0</td>\n",
       "    </tr>\n",
       "    <tr>\n",
       "      <th>102204</th>\n",
       "      <td>gnorquist</td>\n",
       "      <td>noah-s-mill-bourbon</td>\n",
       "      <td>3.0</td>\n",
       "    </tr>\n",
       "    <tr>\n",
       "      <th>102205</th>\n",
       "      <td>brent</td>\n",
       "      <td>noah-s-mill-bourbon</td>\n",
       "      <td>4.0</td>\n",
       "    </tr>\n",
       "  </tbody>\n",
       "</table>\n",
       "<p>102148 rows × 3 columns</p>\n",
       "</div>"
      ],
      "text/plain": [
       "           username               whisky  rating\n",
       "0        SlawofCole       hibiki-21-year     4.5\n",
       "1          ticalx00       hibiki-21-year     4.0\n",
       "2           cycolac       hibiki-21-year     5.0\n",
       "3       aquaquack11       hibiki-21-year     4.5\n",
       "4        phat_tommy       hibiki-21-year     5.0\n",
       "...             ...                  ...     ...\n",
       "102201   jayhines13  noah-s-mill-bourbon     4.0\n",
       "102202   Scotchdale  noah-s-mill-bourbon     5.0\n",
       "102203   johnnylats  noah-s-mill-bourbon     5.0\n",
       "102204    gnorquist  noah-s-mill-bourbon     3.0\n",
       "102205        brent  noah-s-mill-bourbon     4.0\n",
       "\n",
       "[102148 rows x 3 columns]"
      ]
     },
     "execution_count": 5,
     "metadata": {},
     "output_type": "execute_result"
    }
   ],
   "source": [
    "filtered_df"
   ]
  },
  {
   "cell_type": "code",
   "execution_count": 6,
   "metadata": {},
   "outputs": [],
   "source": [
    "filtered_df.to_csv('review_filtered.csv', index=False)"
   ]
  }
 ],
 "metadata": {
  "kernelspec": {
   "display_name": "Python 3",
   "language": "python",
   "name": "python3"
  },
  "language_info": {
   "codemirror_mode": {
    "name": "ipython",
    "version": 3
   },
   "file_extension": ".py",
   "mimetype": "text/x-python",
   "name": "python",
   "nbconvert_exporter": "python",
   "pygments_lexer": "ipython3",
   "version": "3.10.5"
  },
  "orig_nbformat": 4
 },
 "nbformat": 4,
 "nbformat_minor": 2
}
